{
 "cells": [
  {
   "cell_type": "markdown",
   "metadata": {},
   "source": [
    "                                                    ML MODEL FOR POWER ESTIMATION IN VLSI CIRCUITS                                                                          ."
   ]
  },
  {
   "cell_type": "code",
   "execution_count": null,
   "metadata": {},
   "outputs": [],
   "source": [
    "import pandas as pd\n",
    "import numpy as np\n",
    "import matplotlib.pyplot as plt\n",
    "import seaborn as sns\n",
    "\n",
    "from sklearn import metrics\n",
    "\n"
   ]
  },
  {
   "cell_type": "code",
   "execution_count": 2,
   "metadata": {},
   "outputs": [],
   "source": [
    "df=pd.read_csv(r\"C:\\Users\\madar\\Downloads\\vlsi dataset with power.csv\")                #loading the file to dataframe"
   ]
  },
  {
   "cell_type": "code",
   "execution_count": 3,
   "metadata": {},
   "outputs": [
    {
     "data": {
      "text/html": [
       "<div>\n",
       "<style scoped>\n",
       "    .dataframe tbody tr th:only-of-type {\n",
       "        vertical-align: middle;\n",
       "    }\n",
       "\n",
       "    .dataframe tbody tr th {\n",
       "        vertical-align: top;\n",
       "    }\n",
       "\n",
       "    .dataframe thead th {\n",
       "        text-align: right;\n",
       "    }\n",
       "</style>\n",
       "<table border=\"1\" class=\"dataframe\">\n",
       "  <thead>\n",
       "    <tr style=\"text-align: right;\">\n",
       "      <th></th>\n",
       "      <th>Benchmark circuit</th>\n",
       "      <th>GATE</th>\n",
       "      <th>AND</th>\n",
       "      <th>INV</th>\n",
       "      <th>NOR</th>\n",
       "      <th>NAND</th>\n",
       "      <th>OR</th>\n",
       "      <th>DFF</th>\n",
       "      <th>IN</th>\n",
       "      <th>OUT</th>\n",
       "      <th>Monte Carlo Simulation power in mw.</th>\n",
       "    </tr>\n",
       "  </thead>\n",
       "  <tbody>\n",
       "    <tr>\n",
       "      <th>0</th>\n",
       "      <td>S208</td>\n",
       "      <td>66</td>\n",
       "      <td>21</td>\n",
       "      <td>38</td>\n",
       "      <td>16.0</td>\n",
       "      <td>15</td>\n",
       "      <td>14</td>\n",
       "      <td>8</td>\n",
       "      <td>10</td>\n",
       "      <td>1</td>\n",
       "      <td>0.00698</td>\n",
       "    </tr>\n",
       "    <tr>\n",
       "      <th>1</th>\n",
       "      <td>S298</td>\n",
       "      <td>75</td>\n",
       "      <td>31</td>\n",
       "      <td>44</td>\n",
       "      <td>19.0</td>\n",
       "      <td>9</td>\n",
       "      <td>16</td>\n",
       "      <td>14</td>\n",
       "      <td>3</td>\n",
       "      <td>6</td>\n",
       "      <td>0.00912</td>\n",
       "    </tr>\n",
       "    <tr>\n",
       "      <th>2</th>\n",
       "      <td>S349</td>\n",
       "      <td>104</td>\n",
       "      <td>44</td>\n",
       "      <td>57</td>\n",
       "      <td>31.0</td>\n",
       "      <td>19</td>\n",
       "      <td>10</td>\n",
       "      <td>15</td>\n",
       "      <td>9</td>\n",
       "      <td>11</td>\n",
       "      <td>0.01856</td>\n",
       "    </tr>\n",
       "    <tr>\n",
       "      <th>3</th>\n",
       "      <td>S420</td>\n",
       "      <td>160</td>\n",
       "      <td>49</td>\n",
       "      <td>78</td>\n",
       "      <td>34.0</td>\n",
       "      <td>29</td>\n",
       "      <td>28</td>\n",
       "      <td>16</td>\n",
       "      <td>18</td>\n",
       "      <td>1</td>\n",
       "      <td>0.00903</td>\n",
       "    </tr>\n",
       "    <tr>\n",
       "      <th>4</th>\n",
       "      <td>S444</td>\n",
       "      <td>119</td>\n",
       "      <td>13</td>\n",
       "      <td>62</td>\n",
       "      <td>34.0</td>\n",
       "      <td>58</td>\n",
       "      <td>14</td>\n",
       "      <td>21</td>\n",
       "      <td>3</td>\n",
       "      <td>6</td>\n",
       "      <td>0.01172</td>\n",
       "    </tr>\n",
       "  </tbody>\n",
       "</table>\n",
       "</div>"
      ],
      "text/plain": [
       "  Benchmark circuit  GATE  AND  INV   NOR  NAND  OR  DFF  IN  OUT  \\\n",
       "0              S208    66   21   38  16.0    15  14    8  10    1   \n",
       "1              S298    75   31   44  19.0     9  16   14   3    6   \n",
       "2              S349   104   44   57  31.0    19  10   15   9   11   \n",
       "3              S420   160   49   78  34.0    29  28   16  18    1   \n",
       "4              S444   119   13   62  34.0    58  14   21   3    6   \n",
       "\n",
       "   Monte Carlo Simulation power in mw.  \n",
       "0                              0.00698  \n",
       "1                              0.00912  \n",
       "2                              0.01856  \n",
       "3                              0.00903  \n",
       "4                              0.01172  "
      ]
     },
     "execution_count": 3,
     "metadata": {},
     "output_type": "execute_result"
    }
   ],
   "source": [
    "df.head()"
   ]
  },
  {
   "cell_type": "code",
   "execution_count": 4,
   "metadata": {},
   "outputs": [
    {
     "data": {
      "text/html": [
       "<div>\n",
       "<style scoped>\n",
       "    .dataframe tbody tr th:only-of-type {\n",
       "        vertical-align: middle;\n",
       "    }\n",
       "\n",
       "    .dataframe tbody tr th {\n",
       "        vertical-align: top;\n",
       "    }\n",
       "\n",
       "    .dataframe thead th {\n",
       "        text-align: right;\n",
       "    }\n",
       "</style>\n",
       "<table border=\"1\" class=\"dataframe\">\n",
       "  <thead>\n",
       "    <tr style=\"text-align: right;\">\n",
       "      <th></th>\n",
       "      <th>Benchmark circuit</th>\n",
       "      <th>GATE</th>\n",
       "      <th>AND</th>\n",
       "      <th>INV</th>\n",
       "      <th>NOR</th>\n",
       "      <th>NAND</th>\n",
       "      <th>OR</th>\n",
       "      <th>DFF</th>\n",
       "      <th>IN</th>\n",
       "      <th>OUT</th>\n",
       "      <th>Monte Carlo Simulation power in mw.</th>\n",
       "    </tr>\n",
       "  </thead>\n",
       "  <tbody>\n",
       "    <tr>\n",
       "      <th>15</th>\n",
       "      <td>S13207</td>\n",
       "      <td>2573</td>\n",
       "      <td>1114</td>\n",
       "      <td>5378</td>\n",
       "      <td>98.0</td>\n",
       "      <td>849</td>\n",
       "      <td>512</td>\n",
       "      <td>669</td>\n",
       "      <td>31</td>\n",
       "      <td>121</td>\n",
       "      <td>0.35404</td>\n",
       "    </tr>\n",
       "    <tr>\n",
       "      <th>16</th>\n",
       "      <td>S15850</td>\n",
       "      <td>3448</td>\n",
       "      <td>1619</td>\n",
       "      <td>6324</td>\n",
       "      <td>151.0</td>\n",
       "      <td>968</td>\n",
       "      <td>710</td>\n",
       "      <td>597</td>\n",
       "      <td>14</td>\n",
       "      <td>87</td>\n",
       "      <td>0.51991</td>\n",
       "    </tr>\n",
       "    <tr>\n",
       "      <th>17</th>\n",
       "      <td>S35932</td>\n",
       "      <td>12204</td>\n",
       "      <td>4032</td>\n",
       "      <td>3861</td>\n",
       "      <td>0.0</td>\n",
       "      <td>7020</td>\n",
       "      <td>1152</td>\n",
       "      <td>1728</td>\n",
       "      <td>35</td>\n",
       "      <td>320</td>\n",
       "      <td>1.22048</td>\n",
       "    </tr>\n",
       "    <tr>\n",
       "      <th>18</th>\n",
       "      <td>S38417</td>\n",
       "      <td>8709</td>\n",
       "      <td>4154</td>\n",
       "      <td>13470</td>\n",
       "      <td>2279.0</td>\n",
       "      <td>2050</td>\n",
       "      <td>226</td>\n",
       "      <td>1636</td>\n",
       "      <td>28</td>\n",
       "      <td>106</td>\n",
       "      <td>1.14518</td>\n",
       "    </tr>\n",
       "    <tr>\n",
       "      <th>19</th>\n",
       "      <td>S38584</td>\n",
       "      <td>11448</td>\n",
       "      <td>5516</td>\n",
       "      <td>7805</td>\n",
       "      <td>NaN</td>\n",
       "      <td>12</td>\n",
       "      <td>278</td>\n",
       "      <td>1452</td>\n",
       "      <td>2621</td>\n",
       "      <td>1185</td>\n",
       "      <td>1.87987</td>\n",
       "    </tr>\n",
       "  </tbody>\n",
       "</table>\n",
       "</div>"
      ],
      "text/plain": [
       "   Benchmark circuit   GATE   AND    INV     NOR  NAND    OR   DFF    IN  \\\n",
       "15            S13207   2573  1114   5378    98.0   849   512   669    31   \n",
       "16            S15850   3448  1619   6324   151.0   968   710   597    14   \n",
       "17            S35932  12204  4032   3861     0.0  7020  1152  1728    35   \n",
       "18            S38417   8709  4154  13470  2279.0  2050   226  1636    28   \n",
       "19            S38584  11448  5516   7805     NaN    12   278  1452  2621   \n",
       "\n",
       "     OUT  Monte Carlo Simulation power in mw.  \n",
       "15   121                              0.35404  \n",
       "16    87                              0.51991  \n",
       "17   320                              1.22048  \n",
       "18   106                              1.14518  \n",
       "19  1185                              1.87987  "
      ]
     },
     "execution_count": 4,
     "metadata": {},
     "output_type": "execute_result"
    }
   ],
   "source": [
    "df.tail()"
   ]
  },
  {
   "cell_type": "code",
   "execution_count": 5,
   "metadata": {},
   "outputs": [
    {
     "name": "stdout",
     "output_type": "stream",
     "text": [
      "<class 'pandas.core.frame.DataFrame'>\n",
      "RangeIndex: 20 entries, 0 to 19\n",
      "Data columns (total 11 columns):\n",
      " #   Column                               Non-Null Count  Dtype  \n",
      "---  ------                               --------------  -----  \n",
      " 0   Benchmark circuit                    20 non-null     object \n",
      " 1   GATE                                 20 non-null     int64  \n",
      " 2   AND                                  20 non-null     int64  \n",
      " 3   INV                                  20 non-null     int64  \n",
      " 4   NOR                                  19 non-null     float64\n",
      " 5   NAND                                 20 non-null     int64  \n",
      " 6   OR                                   20 non-null     int64  \n",
      " 7   DFF                                  20 non-null     int64  \n",
      " 8   IN                                   20 non-null     int64  \n",
      " 9   OUT                                  20 non-null     int64  \n",
      " 10  Monte Carlo Simulation power in mw.  20 non-null     float64\n",
      "dtypes: float64(2), int64(8), object(1)\n",
      "memory usage: 1.8+ KB\n"
     ]
    }
   ],
   "source": [
    "df.info()"
   ]
  },
  {
   "cell_type": "markdown",
   "metadata": {},
   "source": [
    "DATA CLEANING"
   ]
  },
  {
   "cell_type": "code",
   "execution_count": 4,
   "metadata": {},
   "outputs": [
    {
     "data": {
      "text/plain": [
       "Benchmark circuit                      0\n",
       "GATE                                   0\n",
       "AND                                    0\n",
       "INV                                    0\n",
       "NOR                                    1\n",
       "NAND                                   0\n",
       "OR                                     0\n",
       "DFF                                    0\n",
       "IN                                     0\n",
       "OUT                                    0\n",
       "Monte Carlo Simulation power in mw.    0\n",
       "dtype: int64"
      ]
     },
     "execution_count": 4,
     "metadata": {},
     "output_type": "execute_result"
    }
   ],
   "source": [
    "df.isnull().sum()"
   ]
  },
  {
   "cell_type": "code",
   "execution_count": 5,
   "metadata": {},
   "outputs": [],
   "source": [
    "df.dropna(inplace=True)"
   ]
  },
  {
   "cell_type": "code",
   "execution_count": 9,
   "metadata": {},
   "outputs": [
    {
     "data": {
      "text/plain": [
       "Benchmark circuit                      0\n",
       "GATE                                   0\n",
       "AND                                    0\n",
       "INV                                    0\n",
       "NOR                                    0\n",
       "NAND                                   0\n",
       "OR                                     0\n",
       "DFF                                    0\n",
       "IN                                     0\n",
       "OUT                                    0\n",
       "Monte Carlo Simulation power in mw.    0\n",
       "dtype: int64"
      ]
     },
     "execution_count": 9,
     "metadata": {},
     "output_type": "execute_result"
    }
   ],
   "source": [
    "df.isnull().sum()"
   ]
  },
  {
   "cell_type": "code",
   "execution_count": 10,
   "metadata": {},
   "outputs": [
    {
     "data": {
      "text/plain": [
       "Index(['Benchmark circuit', 'GATE', 'AND', 'INV', 'NOR', 'NAND', 'OR', 'DFF',\n",
       "       'IN', 'OUT', 'Monte Carlo Simulation power in mw.'],\n",
       "      dtype='object')"
      ]
     },
     "execution_count": 10,
     "metadata": {},
     "output_type": "execute_result"
    }
   ],
   "source": [
    "df.columns"
   ]
  },
  {
   "cell_type": "markdown",
   "metadata": {},
   "source": [
    "TRAINING THE ML MODEL "
   ]
  },
  {
   "cell_type": "code",
   "execution_count": 6,
   "metadata": {},
   "outputs": [],
   "source": [
    "from sklearn.model_selection import train_test_split         #importing train and split function for modeling\n",
    "from sklearn.linear_model import LinearRegression             #we will use linear regression technique for precting the values"
   ]
  },
  {
   "cell_type": "code",
   "execution_count": 7,
   "metadata": {},
   "outputs": [],
   "source": [
    "x=df.drop([\"Benchmark circuit\",\"Monte Carlo Simulation power in mw.\"],axis=1)\n",
    "y=df[\"Monte Carlo Simulation power in mw.\"]"
   ]
  },
  {
   "cell_type": "code",
   "execution_count": 30,
   "metadata": {},
   "outputs": [
    {
     "name": "stdout",
     "output_type": "stream",
     "text": [
      "     GATE   AND    INV     NOR  NAND    OR   DFF  IN  OUT\n",
      "0      66    21     38    16.0    15    14     8  10    1\n",
      "1      75    31     44    19.0     9    16    14   3    6\n",
      "2     104    44     57    31.0    19    10    15   9   11\n",
      "3     160    49     78    34.0    29    28    16  18    1\n",
      "4     119    13     62    34.0    58    14    21   3    6\n",
      "5     139    94    254     0.0    28    17    19  35   23\n",
      "6     256    76     33    66.0    54    60     5  18   19\n",
      "7     288   105    158    70.0    57    56    32  34    1\n",
      "8     311    49     84   112.0   114    36    29  16   23\n",
      "9     428   134     80    57.0   125   112    18  14   14\n",
      "10    490   197    167    92.0    64   137    74  17    5\n",
      "11    550   350    103     0.0     0   200     6   8   19\n",
      "12    558   354     89     0.0     0   204     6   8   19\n",
      "13   1004     0   1775   765.0     0   239   179  35   49\n",
      "14   2027   955   3570   113.0   528   431   228  19   22\n",
      "15   2573  1114   5378    98.0   849   512   669  31  121\n",
      "16   3448  1619   6324   151.0   968   710   597  14   87\n",
      "17  12204  4032   3861     0.0  7020  1152  1728  35  320\n",
      "18   8709  4154  13470  2279.0  2050   226  1636  28  106\n"
     ]
    }
   ],
   "source": [
    "print(x)"
   ]
  },
  {
   "cell_type": "code",
   "execution_count": 8,
   "metadata": {},
   "outputs": [
    {
     "data": {
      "text/plain": [
       "((13, 9), (6, 9))"
      ]
     },
     "execution_count": 8,
     "metadata": {},
     "output_type": "execute_result"
    }
   ],
   "source": [
    "x_train,x_test,y_train,y_test=train_test_split(x,y,test_size=0.3,random_state=2529)                  #training the model\n",
    "x_train.shape, x_test.shape"
   ]
  },
  {
   "cell_type": "code",
   "execution_count": 9,
   "metadata": {},
   "outputs": [
    {
     "data": {
      "text/html": [
       "<style>#sk-container-id-1 {color: black;}#sk-container-id-1 pre{padding: 0;}#sk-container-id-1 div.sk-toggleable {background-color: white;}#sk-container-id-1 label.sk-toggleable__label {cursor: pointer;display: block;width: 100%;margin-bottom: 0;padding: 0.3em;box-sizing: border-box;text-align: center;}#sk-container-id-1 label.sk-toggleable__label-arrow:before {content: \"▸\";float: left;margin-right: 0.25em;color: #696969;}#sk-container-id-1 label.sk-toggleable__label-arrow:hover:before {color: black;}#sk-container-id-1 div.sk-estimator:hover label.sk-toggleable__label-arrow:before {color: black;}#sk-container-id-1 div.sk-toggleable__content {max-height: 0;max-width: 0;overflow: hidden;text-align: left;background-color: #f0f8ff;}#sk-container-id-1 div.sk-toggleable__content pre {margin: 0.2em;color: black;border-radius: 0.25em;background-color: #f0f8ff;}#sk-container-id-1 input.sk-toggleable__control:checked~div.sk-toggleable__content {max-height: 200px;max-width: 100%;overflow: auto;}#sk-container-id-1 input.sk-toggleable__control:checked~label.sk-toggleable__label-arrow:before {content: \"▾\";}#sk-container-id-1 div.sk-estimator input.sk-toggleable__control:checked~label.sk-toggleable__label {background-color: #d4ebff;}#sk-container-id-1 div.sk-label input.sk-toggleable__control:checked~label.sk-toggleable__label {background-color: #d4ebff;}#sk-container-id-1 input.sk-hidden--visually {border: 0;clip: rect(1px 1px 1px 1px);clip: rect(1px, 1px, 1px, 1px);height: 1px;margin: -1px;overflow: hidden;padding: 0;position: absolute;width: 1px;}#sk-container-id-1 div.sk-estimator {font-family: monospace;background-color: #f0f8ff;border: 1px dotted black;border-radius: 0.25em;box-sizing: border-box;margin-bottom: 0.5em;}#sk-container-id-1 div.sk-estimator:hover {background-color: #d4ebff;}#sk-container-id-1 div.sk-parallel-item::after {content: \"\";width: 100%;border-bottom: 1px solid gray;flex-grow: 1;}#sk-container-id-1 div.sk-label:hover label.sk-toggleable__label {background-color: #d4ebff;}#sk-container-id-1 div.sk-serial::before {content: \"\";position: absolute;border-left: 1px solid gray;box-sizing: border-box;top: 0;bottom: 0;left: 50%;z-index: 0;}#sk-container-id-1 div.sk-serial {display: flex;flex-direction: column;align-items: center;background-color: white;padding-right: 0.2em;padding-left: 0.2em;position: relative;}#sk-container-id-1 div.sk-item {position: relative;z-index: 1;}#sk-container-id-1 div.sk-parallel {display: flex;align-items: stretch;justify-content: center;background-color: white;position: relative;}#sk-container-id-1 div.sk-item::before, #sk-container-id-1 div.sk-parallel-item::before {content: \"\";position: absolute;border-left: 1px solid gray;box-sizing: border-box;top: 0;bottom: 0;left: 50%;z-index: -1;}#sk-container-id-1 div.sk-parallel-item {display: flex;flex-direction: column;z-index: 1;position: relative;background-color: white;}#sk-container-id-1 div.sk-parallel-item:first-child::after {align-self: flex-end;width: 50%;}#sk-container-id-1 div.sk-parallel-item:last-child::after {align-self: flex-start;width: 50%;}#sk-container-id-1 div.sk-parallel-item:only-child::after {width: 0;}#sk-container-id-1 div.sk-dashed-wrapped {border: 1px dashed gray;margin: 0 0.4em 0.5em 0.4em;box-sizing: border-box;padding-bottom: 0.4em;background-color: white;}#sk-container-id-1 div.sk-label label {font-family: monospace;font-weight: bold;display: inline-block;line-height: 1.2em;}#sk-container-id-1 div.sk-label-container {text-align: center;}#sk-container-id-1 div.sk-container {/* jupyter's `normalize.less` sets `[hidden] { display: none; }` but bootstrap.min.css set `[hidden] { display: none !important; }` so we also need the `!important` here to be able to override the default hidden behavior on the sphinx rendered scikit-learn.org. See: https://github.com/scikit-learn/scikit-learn/issues/21755 */display: inline-block !important;position: relative;}#sk-container-id-1 div.sk-text-repr-fallback {display: none;}</style><div id=\"sk-container-id-1\" class=\"sk-top-container\"><div class=\"sk-text-repr-fallback\"><pre>LinearRegression()</pre><b>In a Jupyter environment, please rerun this cell to show the HTML representation or trust the notebook. <br />On GitHub, the HTML representation is unable to render, please try loading this page with nbviewer.org.</b></div><div class=\"sk-container\" hidden><div class=\"sk-item\"><div class=\"sk-estimator sk-toggleable\"><input class=\"sk-toggleable__control sk-hidden--visually\" id=\"sk-estimator-id-1\" type=\"checkbox\" checked><label for=\"sk-estimator-id-1\" class=\"sk-toggleable__label sk-toggleable__label-arrow\">LinearRegression</label><div class=\"sk-toggleable__content\"><pre>LinearRegression()</pre></div></div></div></div></div>"
      ],
      "text/plain": [
       "LinearRegression()"
      ]
     },
     "execution_count": 9,
     "metadata": {},
     "output_type": "execute_result"
    }
   ],
   "source": [
    "model=LinearRegression()\n",
    "model.fit(x_train,y_train)"
   ]
  },
  {
   "cell_type": "code",
   "execution_count": 10,
   "metadata": {},
   "outputs": [
    {
     "data": {
      "text/plain": [
       "0.0009512347599269222"
      ]
     },
     "execution_count": 10,
     "metadata": {},
     "output_type": "execute_result"
    }
   ],
   "source": [
    "model.intercept_"
   ]
  },
  {
   "cell_type": "code",
   "execution_count": 11,
   "metadata": {},
   "outputs": [
    {
     "data": {
      "text/plain": [
       "array([ 8.60302471e-05,  1.99837088e-05,  2.04853544e-05,  3.29566580e-05,\n",
       "        4.44778744e-06,  2.86420929e-05, -3.51107729e-05,  2.55217045e-05,\n",
       "        1.73867972e-05])"
      ]
     },
     "execution_count": 11,
     "metadata": {},
     "output_type": "execute_result"
    }
   ],
   "source": [
    "model.coef_"
   ]
  },
  {
   "cell_type": "code",
   "execution_count": 12,
   "metadata": {},
   "outputs": [
    {
     "name": "stdout",
     "output_type": "stream",
     "text": [
      "[0.01925963 0.47001316 0.0132322  0.15120479 0.00973817 0.02991779]\n"
     ]
    }
   ],
   "source": [
    "y_pred=model.predict(x_test)              #model prediction \n",
    "print(y_pred)"
   ]
  },
  {
   "cell_type": "markdown",
   "metadata": {},
   "source": [
    "VISUALIZATION"
   ]
  },
  {
   "cell_type": "code",
   "execution_count": 32,
   "metadata": {},
   "outputs": [
    {
     "data": {
      "text/plain": [
       "Text(0.5, 1.0, 'Regression plot ')"
      ]
     },
     "execution_count": 32,
     "metadata": {},
     "output_type": "execute_result"
    },
    {
     "data": {
      "image/png": "[encoded data removed]",
      "text/plain": [
       "<Figure size 1500x500 with 1 Axes>"
      ]
     },
     "metadata": {},
     "output_type": "display_data"
    }
   ],
   "source": [
    "sns.set(rc={'figure.figsize':(15,5)})\n",
    "sns.regplot(x=y_test,y=y_pred)\n",
    "plt.xlabel('actual power value')\n",
    "plt.ylabel('predicted power value')\n",
    "plt.title('Regression plot ')\n"
   ]
  },
  {
   "cell_type": "code",
   "execution_count": 24,
   "metadata": {},
   "outputs": [
    {
     "data": {
      "image/png": "[encoded data removed]",
      "text/plain": [
       "<Figure size 1500x500 with 1 Axes>"
      ]
     },
     "metadata": {},
     "output_type": "display_data"
    }
   ],
   "source": [
    "plt.bar(y_test,y_pred)                                               #barplot which shows deviation from actual values to predicted values\n",
    "plt.title(\"predicted values vs actual values\")\n",
    "plt.xlabel(\"actual value\")\n",
    "plt.ylabel(\"predicted values\")\n",
    "plt.show()"
   ]
  },
  {
   "cell_type": "markdown",
   "metadata": {},
   "source": [
    "ERROR CHECKING "
   ]
  },
  {
   "cell_type": "code",
   "execution_count": 15,
   "metadata": {},
   "outputs": [
    {
     "name": "stdout",
     "output_type": "stream",
     "text": [
      "0.95613490054494\n"
     ]
    }
   ],
   "source": [
    "error_score=metrics.r2_score(y_test,y_pred)         #R2_score calculation\n",
    "print(error_score)"
   ]
  },
  {
   "cell_type": "code",
   "execution_count": 16,
   "metadata": {},
   "outputs": [
    {
     "name": "stdout",
     "output_type": "stream",
     "text": [
      "0.02500757216041811\n"
     ]
    }
   ],
   "source": [
    "\n",
    "\n",
    "print(metrics.mean_absolute_error(y_test,y_pred))\n"
   ]
  },
  {
   "cell_type": "code",
   "execution_count": 19,
   "metadata": {},
   "outputs": [
    {
     "data": {
      "text/plain": [
       "0.3321815760902688"
      ]
     },
     "execution_count": 19,
     "metadata": {},
     "output_type": "execute_result"
    }
   ],
   "source": [
    "from sklearn.metrics import mean_absolute_percentage_error\n",
    "mean_absolute_percentage_error(y_test,y_pred)\n"
   ]
  }
 ],
 "metadata": {
  "kernelspec": {
   "display_name": "Python 3",
   "language": "python",
   "name": "python3"
  },
  "language_info": {
   "codemirror_mode": {
    "name": "ipython",
    "version": 3
   },
   "file_extension": ".py",
   "mimetype": "text/x-python",
   "name": "python",
   "nbconvert_exporter": "python",
   "pygments_lexer": "ipython3",
   "version": "3.11.6"
  }
 },
 "nbformat": 4,
 "nbformat_minor": 2
}
